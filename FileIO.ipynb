{
 "cells": [
  {
   "cell_type": "code",
   "execution_count": 121,
   "id": "bae9e808",
   "metadata": {},
   "outputs": [
    {
     "name": "stdout",
     "output_type": "stream",
     "text": [
      "Utility Tested:  UsbTest\n",
      "OS Arch:  x64\n",
      "OS Flavour : Win10\n",
      "Product Version:  20.2.33\n",
      "Total Tests Run:  4\n",
      "Total Tests Failed:  2\n",
      "Total Tests Passed:  2\n",
      "Total execution time:  0:06:29\n"
     ]
    }
   ],
   "source": [
    "import os\n",
    "import sys\n",
    "import re\n",
    "from datetime import datetime\n",
    "\n",
    "\n",
    "fileName = \"/Users/harshit/UsbTest_x64_Win10_20.2.33.log\"\n",
    "\n",
    "if os.path.exists(fileName):\n",
    "    start_time = \"Test Run Beginning:\"\n",
    "    end_time = \"Test Run Ended\"\n",
    "    d = {}\n",
    "    mfile = open(fileName, 'r')\n",
    "    file_name = os.path.basename(fileName)\n",
    "    filedata =[]\n",
    "    filedata = file_name.split(\"_\") \n",
    "    d[\"Utility Tested: \"] = filedata[0]\n",
    "    d[\"OS Arch: \"] = filedata[1]\n",
    "    d[\"OS Flavour :\"] = filedata[2]\n",
    "    d[\"Product Version: \"] = filedata[3].split(\".l\")[0]\n",
    "    data = mfile.read()\n",
    "    Testfailed = data.count(\"Failing Test:\") \n",
    "    Testpassed = data.count(\"Test Passed!!!!\")  \n",
    "    total_test = Testfailed + Testpassed\n",
    "    d[\"Total Tests Run: \"] = total_test\n",
    "    d[\"Total Tests Failed: \"] = Testfailed\n",
    "    d[\"Total Tests Passed: \"] = Testpassed\n",
    "    mfile = open(fileName, 'r')\n",
    "    for line in mfile:\n",
    "        if start_time in line:\n",
    "            itime_stamp = ''.join([char for char in line.casefold() if char not in 'ampqwertyuiosdfghjklnbvcxz']).split(\": \")[1]\n",
    "        if end_time in line:\n",
    "            etime_stamp = ''.join([char for char in line.casefold() if char not in 'ampqwertyuiosdfghjklnbvcxz']).split(\": \")[1]\n",
    "    date_time_format = '%d/%m/%Y %I:%M:%S'\n",
    "    tdelta = datetime.strptime(etime_stamp.strip(), date_time_format) - datetime.strptime(itime_stamp.strip(), date_time_format)\n",
    "    for i in d:\n",
    "        print(i, d[i], sep = ' ')\n",
    "    print(\"Total execution time: \", tdelta)    "
   ]
  }
 ],
 "metadata": {
  "kernelspec": {
   "display_name": "Python 3",
   "language": "python",
   "name": "python3"
  },
  "language_info": {
   "codemirror_mode": {
    "name": "ipython",
    "version": 3
   },
   "file_extension": ".py",
   "mimetype": "text/x-python",
   "name": "python",
   "nbconvert_exporter": "python",
   "pygments_lexer": "ipython3",
   "version": "3.8.8"
  }
 },
 "nbformat": 4,
 "nbformat_minor": 5
}
